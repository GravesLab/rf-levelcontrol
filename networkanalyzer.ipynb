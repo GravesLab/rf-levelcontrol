{
 "cells": [
  {
   "cell_type": "code",
   "execution_count": 86,
   "metadata": {
    "collapsed": false
   },
   "outputs": [],
   "source": [
    "from matplotlib import pyplot as plt\n",
    "import matplotlib\n",
    "import numpy\n",
    "import os\n",
    "\n",
    "# make a plot for each dataset\n",
    "# for fname in os.listdir('data'):\n",
    "#     data = numpy.genfromtxt(os.path.join('data',fname),delimiter=',',skip_header=2,usecols=(0,2))\n",
    "#     fig = plt.figure()\n",
    "#     ax = fig.add_subplot(111)\n",
    "#     ax.plot([line[0] for line in data],[line[1]for line in data])\n",
    "#     ax.set_title(fname)\n",
    "#     ax.set_ylim(-50,0)\n",
    "#     fig.savefig(os.path.join('plots',fname+'.png'),dpi=300)\n",
    "#     plt.close(fig)\n",
    "\n",
    "# make a single plot for entire dataset\n",
    "fig = plt.figure()\n",
    "ax = fig.add_subplot(111)\n",
    "dataset = sorted(os.listdir('data'))\n",
    "cm = matplotlib.cm.viridis(numpy.linspace(0, 1, len(dataset)/2+1))\n",
    "# lines to try: ~140, 240-250, ~380\n",
    "target_line = [150,242,370] # [142,250,380]\n",
    "xy = [[] for i in range(0,len(target_line))]\n",
    "vl = [[] for i in range(0,len(target_line))]\n",
    "vt = [[] for i in range(0,len(target_line))]\n",
    "vcolor = 'black'\n",
    "\n",
    "for i,fname in enumerate(dataset):\n",
    "    data = numpy.genfromtxt(os.path.join('data',fname),delimiter=',',skip_header=2,usecols=(0,2))\n",
    "    ax.plot([line[0] for line in data],[line[1] for line in data],color=cm[-abs(i-len(dataset)/2)+len(dataset)/2])\n",
    "    ax.set_title(fname)\n",
    "    ax.set_ylim(-50,0)\n",
    "    \n",
    "    for j,target in enumerate(target_line):\n",
    "        xy[j].append(data[target])\n",
    "        # create the vertical line and label\n",
    "        vdelta_hz = xy[j][-1][1]-xy[j][0][1]\n",
    "        vdelta_v = 10**(vdelta_hz / 20)\n",
    "        vtxt = \"%0.0f Hz\\n amp = %0.1f \\n delta = %0.2f dB \\n delta = %0.2f Vgain\" % (xy[j][-1][0],xy[j][-1][1],vdelta_hz,vdelta_v)\n",
    "        vl[j] = ax.vlines(xy[j][-1][0],-50,0,color=vcolor,linestyle='--',linewidth=1.0)\n",
    "        vt[j] = ax.text(xy[j][-1][0]+0.02*10**8,-10,vtxt,fontsize=9,color=vcolor,rotation=90)\n",
    "    \n",
    "    # save the figure\n",
    "    fig.savefig(os.path.join('plots', fname + '.png'),dpi=300)\n",
    "    \n",
    "    for k in range(0,len(vl)):\n",
    "        vl[k].remove()\n",
    "        vt[k].remove()\n",
    "        \n",
    "    plt.close(fig)"
   ]
  },
  {
   "cell_type": "code",
   "execution_count": null,
   "metadata": {
    "collapsed": true
   },
   "outputs": [],
   "source": []
  }
 ],
 "metadata": {
  "kernelspec": {
   "display_name": "Python 2",
   "language": "python",
   "name": "python2"
  },
  "language_info": {
   "codemirror_mode": {
    "name": "ipython",
    "version": 2
   },
   "file_extension": ".py",
   "mimetype": "text/x-python",
   "name": "python",
   "nbconvert_exporter": "python",
   "pygments_lexer": "ipython2",
   "version": "2.7.6"
  }
 },
 "nbformat": 4,
 "nbformat_minor": 0
}
